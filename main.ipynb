{
 "cells": [
  {
   "cell_type": "code",
   "execution_count": 1,
   "metadata": {},
   "outputs": [],
   "source": [
    "import numpy as np \n",
    "import pandas as pd \n",
    "import matplotlib.pyplot as plt \n",
    "import seaborn as sns\n",
    "import scipy.stats as sts"
   ]
  },
  {
   "cell_type": "markdown",
   "metadata": {},
   "source": [
    "### Просмотр данных"
   ]
  },
  {
   "cell_type": "code",
   "execution_count": 2,
   "metadata": {},
   "outputs": [],
   "source": [
    "df = pd.read_csv('analytics_test.csv')"
   ]
  },
  {
   "cell_type": "code",
   "execution_count": 3,
   "metadata": {},
   "outputs": [
    {
     "data": {
      "text/html": [
       "<div>\n",
       "<style scoped>\n",
       "    .dataframe tbody tr th:only-of-type {\n",
       "        vertical-align: middle;\n",
       "    }\n",
       "\n",
       "    .dataframe tbody tr th {\n",
       "        vertical-align: top;\n",
       "    }\n",
       "\n",
       "    .dataframe thead th {\n",
       "        text-align: right;\n",
       "    }\n",
       "</style>\n",
       "<table border=\"1\" class=\"dataframe\">\n",
       "  <thead>\n",
       "    <tr style=\"text-align: right;\">\n",
       "      <th></th>\n",
       "      <th>Unnamed: 0</th>\n",
       "      <th>user_id</th>\n",
       "      <th>sex</th>\n",
       "      <th>age</th>\n",
       "      <th>platform</th>\n",
       "      <th>query_id</th>\n",
       "      <th>query_text</th>\n",
       "      <th>query_type</th>\n",
       "      <th>event</th>\n",
       "      <th>click_position</th>\n",
       "      <th>doc_type</th>\n",
       "      <th>view_time</th>\n",
       "    </tr>\n",
       "  </thead>\n",
       "  <tbody>\n",
       "    <tr>\n",
       "      <th>0</th>\n",
       "      <td>0</td>\n",
       "      <td>96422511</td>\n",
       "      <td>female</td>\n",
       "      <td>68</td>\n",
       "      <td>android</td>\n",
       "      <td>89656828</td>\n",
       "      <td>передачи о новых технологиях</td>\n",
       "      <td>show</td>\n",
       "      <td>share</td>\n",
       "      <td>6</td>\n",
       "      <td>playlist</td>\n",
       "      <td>0</td>\n",
       "    </tr>\n",
       "    <tr>\n",
       "      <th>1</th>\n",
       "      <td>1</td>\n",
       "      <td>45247030</td>\n",
       "      <td>male</td>\n",
       "      <td>62</td>\n",
       "      <td>android_tv</td>\n",
       "      <td>89784877</td>\n",
       "      <td>автопрому новости</td>\n",
       "      <td>news</td>\n",
       "      <td>search</td>\n",
       "      <td>0</td>\n",
       "      <td>NaN</td>\n",
       "      <td>0</td>\n",
       "    </tr>\n",
       "    <tr>\n",
       "      <th>2</th>\n",
       "      <td>2</td>\n",
       "      <td>79572413</td>\n",
       "      <td>male</td>\n",
       "      <td>12</td>\n",
       "      <td>web</td>\n",
       "      <td>10555855</td>\n",
       "      <td>логистическое законодательство</td>\n",
       "      <td>news</td>\n",
       "      <td>search</td>\n",
       "      <td>0</td>\n",
       "      <td>NaN</td>\n",
       "      <td>0</td>\n",
       "    </tr>\n",
       "    <tr>\n",
       "      <th>3</th>\n",
       "      <td>3</td>\n",
       "      <td>821317</td>\n",
       "      <td>female</td>\n",
       "      <td>58</td>\n",
       "      <td>android_tv</td>\n",
       "      <td>72054848</td>\n",
       "      <td>банковские премии новости</td>\n",
       "      <td>news</td>\n",
       "      <td>search</td>\n",
       "      <td>0</td>\n",
       "      <td>NaN</td>\n",
       "      <td>0</td>\n",
       "    </tr>\n",
       "    <tr>\n",
       "      <th>4</th>\n",
       "      <td>4</td>\n",
       "      <td>6206023</td>\n",
       "      <td>female</td>\n",
       "      <td>24</td>\n",
       "      <td>android</td>\n",
       "      <td>20838049</td>\n",
       "      <td>вики шоу аманда</td>\n",
       "      <td>show</td>\n",
       "      <td>subscribe</td>\n",
       "      <td>7</td>\n",
       "      <td>author</td>\n",
       "      <td>0</td>\n",
       "    </tr>\n",
       "  </tbody>\n",
       "</table>\n",
       "</div>"
      ],
      "text/plain": [
       "   Unnamed: 0   user_id     sex  age    platform  query_id  \\\n",
       "0           0  96422511  female   68     android  89656828   \n",
       "1           1  45247030    male   62  android_tv  89784877   \n",
       "2           2  79572413    male   12         web  10555855   \n",
       "3           3    821317  female   58  android_tv  72054848   \n",
       "4           4   6206023  female   24     android  20838049   \n",
       "\n",
       "                       query_text query_type      event  click_position  \\\n",
       "0    передачи о новых технологиях       show      share               6   \n",
       "1               автопрому новости       news     search               0   \n",
       "2  логистическое законодательство       news     search               0   \n",
       "3       банковские премии новости       news     search               0   \n",
       "4                 вики шоу аманда       show  subscribe               7   \n",
       "\n",
       "   doc_type  view_time  \n",
       "0  playlist          0  \n",
       "1       NaN          0  \n",
       "2       NaN          0  \n",
       "3       NaN          0  \n",
       "4    author          0  "
      ]
     },
     "execution_count": 3,
     "metadata": {},
     "output_type": "execute_result"
    }
   ],
   "source": [
    "df.head()"
   ]
  },
  {
   "cell_type": "code",
   "execution_count": 4,
   "metadata": {},
   "outputs": [
    {
     "data": {
      "text/plain": [
       "(20000, 12)"
      ]
     },
     "execution_count": 4,
     "metadata": {},
     "output_type": "execute_result"
    }
   ],
   "source": [
    "df.shape"
   ]
  },
  {
   "cell_type": "code",
   "execution_count": 5,
   "metadata": {},
   "outputs": [
    {
     "name": "stdout",
     "output_type": "stream",
     "text": [
      "<class 'pandas.core.frame.DataFrame'>\n",
      "RangeIndex: 20000 entries, 0 to 19999\n",
      "Data columns (total 12 columns):\n",
      " #   Column          Non-Null Count  Dtype \n",
      "---  ------          --------------  ----- \n",
      " 0   Unnamed: 0      20000 non-null  int64 \n",
      " 1   user_id         20000 non-null  int64 \n",
      " 2   sex             20000 non-null  object\n",
      " 3   age             20000 non-null  int64 \n",
      " 4   platform        20000 non-null  object\n",
      " 5   query_id        20000 non-null  int64 \n",
      " 6   query_text      20000 non-null  object\n",
      " 7   query_type      20000 non-null  object\n",
      " 8   event           20000 non-null  object\n",
      " 9   click_position  20000 non-null  int64 \n",
      " 10  doc_type        15042 non-null  object\n",
      " 11  view_time       20000 non-null  int64 \n",
      "dtypes: int64(6), object(6)\n",
      "memory usage: 1.8+ MB\n"
     ]
    }
   ],
   "source": [
    "df.info()"
   ]
  },
  {
   "cell_type": "markdown",
   "metadata": {},
   "source": [
    "### Блок анализа платформ"
   ]
  },
  {
   "cell_type": "code",
   "execution_count": 6,
   "metadata": {},
   "outputs": [
    {
     "data": {
      "text/html": [
       "<div>\n",
       "<style scoped>\n",
       "    .dataframe tbody tr th:only-of-type {\n",
       "        vertical-align: middle;\n",
       "    }\n",
       "\n",
       "    .dataframe tbody tr th {\n",
       "        vertical-align: top;\n",
       "    }\n",
       "\n",
       "    .dataframe thead th {\n",
       "        text-align: right;\n",
       "    }\n",
       "</style>\n",
       "<table border=\"1\" class=\"dataframe\">\n",
       "  <thead>\n",
       "    <tr style=\"text-align: right;\">\n",
       "      <th></th>\n",
       "      <th>platform</th>\n",
       "      <th>percentage</th>\n",
       "    </tr>\n",
       "  </thead>\n",
       "  <tbody>\n",
       "    <tr>\n",
       "      <th>0</th>\n",
       "      <td>iphone</td>\n",
       "      <td>21.56</td>\n",
       "    </tr>\n",
       "    <tr>\n",
       "      <th>1</th>\n",
       "      <td>smart_tv</td>\n",
       "      <td>21.28</td>\n",
       "    </tr>\n",
       "    <tr>\n",
       "      <th>2</th>\n",
       "      <td>android</td>\n",
       "      <td>21.23</td>\n",
       "    </tr>\n",
       "    <tr>\n",
       "      <th>3</th>\n",
       "      <td>android_tv</td>\n",
       "      <td>19.92</td>\n",
       "    </tr>\n",
       "    <tr>\n",
       "      <th>4</th>\n",
       "      <td>web</td>\n",
       "      <td>16.01</td>\n",
       "    </tr>\n",
       "  </tbody>\n",
       "</table>\n",
       "</div>"
      ],
      "text/plain": [
       "     platform  percentage\n",
       "0      iphone       21.56\n",
       "1    smart_tv       21.28\n",
       "2     android       21.23\n",
       "3  android_tv       19.92\n",
       "4         web       16.01"
      ]
     },
     "execution_count": 6,
     "metadata": {},
     "output_type": "execute_result"
    }
   ],
   "source": [
    "platform_density = df.platform.value_counts(normalize=True) \\\n",
    "            .mul(100) \\\n",
    "            .round(2) \\\n",
    "            .reset_index() \\\n",
    "            .rename(columns={'proportion' : 'percentage'}) \\\n",
    "            .sort_values('percentage', ascending=False)\n",
    "platform_density # колличество пользователей в процентном соотношении по платформам, заметно что браузером пользуется меньшее количество людей "
   ]
  },
  {
   "cell_type": "code",
   "execution_count": 8,
   "metadata": {},
   "outputs": [
    {
     "data": {
      "text/plain": [
       "Text(0, 0.5, 'percentage')"
      ]
     },
     "execution_count": 8,
     "metadata": {},
     "output_type": "execute_result"
    },
    {
     "data": {
      "image/png": "[encoded data removed]",
      "text/plain": [
       "<Figure size 640x480 with 1 Axes>"
      ]
     },
     "metadata": {},
     "output_type": "display_data"
    }
   ],
   "source": [
    "sns.histplot(data=platform_density, x='platform', binwidth=0.5 , weights='percentage', shrink=0.8)\n",
    "plt.ylabel('percentage')"
   ]
  },
  {
   "cell_type": "code",
   "execution_count": 9,
   "metadata": {},
   "outputs": [
    {
     "data": {
      "text/html": [
       "<div>\n",
       "<style scoped>\n",
       "    .dataframe tbody tr th:only-of-type {\n",
       "        vertical-align: middle;\n",
       "    }\n",
       "\n",
       "    .dataframe tbody tr th {\n",
       "        vertical-align: top;\n",
       "    }\n",
       "\n",
       "    .dataframe thead th {\n",
       "        text-align: right;\n",
       "    }\n",
       "</style>\n",
       "<table border=\"1\" class=\"dataframe\">\n",
       "  <thead>\n",
       "    <tr style=\"text-align: right;\">\n",
       "      <th></th>\n",
       "      <th>platform</th>\n",
       "      <th>click_position</th>\n",
       "    </tr>\n",
       "  </thead>\n",
       "  <tbody>\n",
       "    <tr>\n",
       "      <th>0</th>\n",
       "      <td>android</td>\n",
       "      <td>5.0</td>\n",
       "    </tr>\n",
       "    <tr>\n",
       "      <th>1</th>\n",
       "      <td>android_tv</td>\n",
       "      <td>3.0</td>\n",
       "    </tr>\n",
       "    <tr>\n",
       "      <th>2</th>\n",
       "      <td>iphone</td>\n",
       "      <td>5.0</td>\n",
       "    </tr>\n",
       "    <tr>\n",
       "      <th>3</th>\n",
       "      <td>smart_tv</td>\n",
       "      <td>3.0</td>\n",
       "    </tr>\n",
       "    <tr>\n",
       "      <th>4</th>\n",
       "      <td>web</td>\n",
       "      <td>6.0</td>\n",
       "    </tr>\n",
       "  </tbody>\n",
       "</table>\n",
       "</div>"
      ],
      "text/plain": [
       "     platform  click_position\n",
       "0     android             5.0\n",
       "1  android_tv             3.0\n",
       "2      iphone             5.0\n",
       "3    smart_tv             3.0\n",
       "4         web             6.0"
      ]
     },
     "execution_count": 9,
     "metadata": {},
     "output_type": "execute_result"
    }
   ],
   "source": [
    "# возможно падение числа пользователей web связано с тем, что в браузерной верссии неудобный интерфейс, посмотрим на медиану click_position\n",
    "df.groupby('platform', as_index=False).agg({'click_position': 'median'}).round(2) # различия есть но они не велеки"
   ]
  },
  {
   "cell_type": "code",
   "execution_count": 11,
   "metadata": {},
   "outputs": [
    {
     "data": {
      "text/html": [
       "<div>\n",
       "<style scoped>\n",
       "    .dataframe tbody tr th:only-of-type {\n",
       "        vertical-align: middle;\n",
       "    }\n",
       "\n",
       "    .dataframe tbody tr th {\n",
       "        vertical-align: top;\n",
       "    }\n",
       "\n",
       "    .dataframe thead th {\n",
       "        text-align: right;\n",
       "    }\n",
       "</style>\n",
       "<table border=\"1\" class=\"dataframe\">\n",
       "  <thead>\n",
       "    <tr style=\"text-align: right;\">\n",
       "      <th></th>\n",
       "      <th>platform</th>\n",
       "      <th>view_time</th>\n",
       "    </tr>\n",
       "  </thead>\n",
       "  <tbody>\n",
       "    <tr>\n",
       "      <th>0</th>\n",
       "      <td>android</td>\n",
       "      <td>3056.155477</td>\n",
       "    </tr>\n",
       "    <tr>\n",
       "      <th>1</th>\n",
       "      <td>android_tv</td>\n",
       "      <td>5256.333333</td>\n",
       "    </tr>\n",
       "    <tr>\n",
       "      <th>2</th>\n",
       "      <td>iphone</td>\n",
       "      <td>3374.546099</td>\n",
       "    </tr>\n",
       "    <tr>\n",
       "      <th>3</th>\n",
       "      <td>smart_tv</td>\n",
       "      <td>5455.485876</td>\n",
       "    </tr>\n",
       "    <tr>\n",
       "      <th>4</th>\n",
       "      <td>web</td>\n",
       "      <td>3145.953995</td>\n",
       "    </tr>\n",
       "  </tbody>\n",
       "</table>\n",
       "</div>"
      ],
      "text/plain": [
       "     platform    view_time\n",
       "0     android  3056.155477\n",
       "1  android_tv  5256.333333\n",
       "2      iphone  3374.546099\n",
       "3    smart_tv  5455.485876\n",
       "4         web  3145.953995"
      ]
     },
     "execution_count": 11,
     "metadata": {},
     "output_type": "execute_result"
    }
   ],
   "source": [
    "# посмотрим сколько время тратят пользователи разных платформ на просмотр контента\n",
    "# показатели различаются не сильно, скорее всего это связано с переходом людей на другие платформы\n",
    "df[df['view_time'] > 0].groupby('platform', as_index=False).agg({'view_time' : 'mean'})"
   ]
  },
  {
   "cell_type": "code",
   "execution_count": 12,
   "metadata": {},
   "outputs": [],
   "source": [
    "# добавим столбец success, который будет отображать успешность клика\n",
    "df['success'] = np.where(df['event'].isin(['search', 'tap']), 0, 1)"
   ]
  },
  {
   "cell_type": "code",
   "execution_count": 13,
   "metadata": {},
   "outputs": [
    {
     "data": {
      "text/html": [
       "<div>\n",
       "<style scoped>\n",
       "    .dataframe tbody tr th:only-of-type {\n",
       "        vertical-align: middle;\n",
       "    }\n",
       "\n",
       "    .dataframe tbody tr th {\n",
       "        vertical-align: top;\n",
       "    }\n",
       "\n",
       "    .dataframe thead th {\n",
       "        text-align: right;\n",
       "    }\n",
       "</style>\n",
       "<table border=\"1\" class=\"dataframe\">\n",
       "  <thead>\n",
       "    <tr style=\"text-align: right;\">\n",
       "      <th></th>\n",
       "      <th>query_type</th>\n",
       "      <th>success</th>\n",
       "    </tr>\n",
       "  </thead>\n",
       "  <tbody>\n",
       "    <tr>\n",
       "      <th>0</th>\n",
       "      <td>films</td>\n",
       "      <td>11.51</td>\n",
       "    </tr>\n",
       "    <tr>\n",
       "      <th>1</th>\n",
       "      <td>music</td>\n",
       "      <td>11.78</td>\n",
       "    </tr>\n",
       "    <tr>\n",
       "      <th>2</th>\n",
       "      <td>news</td>\n",
       "      <td>7.99</td>\n",
       "    </tr>\n",
       "    <tr>\n",
       "      <th>3</th>\n",
       "      <td>show</td>\n",
       "      <td>11.10</td>\n",
       "    </tr>\n",
       "  </tbody>\n",
       "</table>\n",
       "</div>"
      ],
      "text/plain": [
       "  query_type  success\n",
       "0      films    11.51\n",
       "1      music    11.78\n",
       "2       news     7.99\n",
       "3       show    11.10"
      ]
     },
     "execution_count": 13,
     "metadata": {},
     "output_type": "execute_result"
    }
   ],
   "source": [
    "# в новостях процент успеха значительно ниже\n",
    "all_query = df.success.count()\n",
    "success_query = df[df['success'] == 1].groupby('query_type', as_index=False)['success'].count()\n",
    "success_query['success'] = (success_query['success'] / all_query * 100).round(2)\n",
    "success_query"
   ]
  },
  {
   "cell_type": "code",
   "execution_count": 14,
   "metadata": {},
   "outputs": [
    {
     "data": {
      "text/html": [
       "<div>\n",
       "<style scoped>\n",
       "    .dataframe tbody tr th:only-of-type {\n",
       "        vertical-align: middle;\n",
       "    }\n",
       "\n",
       "    .dataframe tbody tr th {\n",
       "        vertical-align: top;\n",
       "    }\n",
       "\n",
       "    .dataframe thead th {\n",
       "        text-align: right;\n",
       "    }\n",
       "</style>\n",
       "<table border=\"1\" class=\"dataframe\">\n",
       "  <thead>\n",
       "    <tr style=\"text-align: right;\">\n",
       "      <th></th>\n",
       "      <th>query_type</th>\n",
       "      <th>click_position</th>\n",
       "    </tr>\n",
       "  </thead>\n",
       "  <tbody>\n",
       "    <tr>\n",
       "      <th>0</th>\n",
       "      <td>films</td>\n",
       "      <td>3.0</td>\n",
       "    </tr>\n",
       "    <tr>\n",
       "      <th>1</th>\n",
       "      <td>music</td>\n",
       "      <td>8.0</td>\n",
       "    </tr>\n",
       "    <tr>\n",
       "      <th>2</th>\n",
       "      <td>news</td>\n",
       "      <td>14.0</td>\n",
       "    </tr>\n",
       "    <tr>\n",
       "      <th>3</th>\n",
       "      <td>show</td>\n",
       "      <td>6.0</td>\n",
       "    </tr>\n",
       "  </tbody>\n",
       "</table>\n",
       "</div>"
      ],
      "text/plain": [
       "  query_type  click_position\n",
       "0      films             3.0\n",
       "1      music             8.0\n",
       "2       news            14.0\n",
       "3       show             6.0"
      ]
     },
     "execution_count": 14,
     "metadata": {},
     "output_type": "execute_result"
    }
   ],
   "source": [
    "# посмотрим как быстро пользователи находят контент в случае успешного дествия\n",
    "# наблюдаем что пользователи в среднем в более чем 2 раза дольше ищут новости, чаще всего на это уходит 14 документов в выдаче\n",
    "query_click_median = df[df['success'] == 1].groupby('query_type', as_index=False).agg({'click_position': 'median'})\n",
    "query_click_median"
   ]
  },
  {
   "cell_type": "code",
   "execution_count": 15,
   "metadata": {},
   "outputs": [
    {
     "name": "stderr",
     "output_type": "stream",
     "text": [
      "C:\\Users\\den\\AppData\\Local\\Temp\\ipykernel_4336\\2556360086.py:2: FutureWarning: \n",
      "\n",
      "Passing `palette` without assigning `hue` is deprecated and will be removed in v0.14.0. Assign the `x` variable to `hue` and set `legend=False` for the same effect.\n",
      "\n",
      "  sns.barplot(data = df[df['success'] == 1], x='query_type', y = 'click_position', palette='viridis')\n"
     ]
    },
    {
     "data": {
      "text/plain": [
       "<Axes: xlabel='query_type', ylabel='click_position'>"
      ]
     },
     "execution_count": 15,
     "metadata": {},
     "output_type": "execute_result"
    },
    {
     "data": {
      "image/png": "[encoded data removed]",
      "text/plain": [
       "<Figure size 640x480 with 1 Axes>"
      ]
     },
     "metadata": {},
     "output_type": "display_data"
    }
   ],
   "source": [
    "# на графике новости сильно отличаются от других категорий\n",
    "sns.barplot(data = df[df['success'] == 1], x='query_type', y = 'click_position', palette='viridis')"
   ]
  },
  {
   "cell_type": "code",
   "execution_count": 16,
   "metadata": {},
   "outputs": [
    {
     "data": {
      "text/plain": [
       "np.float64(34.24)"
      ]
     },
     "execution_count": 16,
     "metadata": {},
     "output_type": "execute_result"
    }
   ],
   "source": [
    "# посмотрим какому проценту пользователей приходится пролистывать более 15 документов что бы найти нужную новость\n",
    "(df[(df['query_type'] == 'news') & (df['click_position'] > 15)]['user_id'].count() / df[(df['query_type'] == 'news')]['user_id'].count() * 100).round(2)"
   ]
  },
  {
   "cell_type": "code",
   "execution_count": 17,
   "metadata": {},
   "outputs": [
    {
     "data": {
      "text/plain": [
       "np.float64(5.36)"
      ]
     },
     "execution_count": 17,
     "metadata": {},
     "output_type": "execute_result"
    }
   ],
   "source": [
    "# посмотрим то же самое для других категрий, значения сильно отличаются, Получается больше трети пользователей сталкиваются с проблемой при поиске новостей\n",
    "(df[(df['query_type'] != 'news') & (df['click_position'] > 15)]['user_id'].count() / df[(df['query_type'] == 'news')]['user_id'].count() * 100).round(2)"
   ]
  },
  {
   "cell_type": "code",
   "execution_count": 18,
   "metadata": {},
   "outputs": [
    {
     "name": "stderr",
     "output_type": "stream",
     "text": [
      "C:\\Users\\den\\AppData\\Local\\Temp\\ipykernel_4336\\3379556424.py:3: FutureWarning: \n",
      "\n",
      "Passing `palette` without assigning `hue` is deprecated and will be removed in v0.14.0. Assign the `x` variable to `hue` and set `legend=False` for the same effect.\n",
      "\n",
      "  sns.barplot(data=df.query('query_type == \"news\"'), x='age', y = 'click_position', palette='viridis')\n"
     ]
    },
    {
     "data": {
      "text/plain": [
       "<Axes: xlabel='age', ylabel='click_position'>"
      ]
     },
     "execution_count": 18,
     "metadata": {},
     "output_type": "execute_result"
    },
    {
     "data": {
      "image/png": "[encoded data removed]",
      "text/plain": [
       "<Figure size 1400x800 with 1 Axes>"
      ]
     },
     "metadata": {},
     "output_type": "display_data"
    }
   ],
   "source": [
    "# проблема наблюдается для всех возрастов\n",
    "plt.figure(figsize=(14,8))\n",
    "sns.barplot(data=df.query('query_type == \"news\"'), x='age', y = 'click_position', palette='viridis')"
   ]
  },
  {
   "cell_type": "code",
   "execution_count": 19,
   "metadata": {},
   "outputs": [
    {
     "name": "stderr",
     "output_type": "stream",
     "text": [
      "C:\\Users\\den\\AppData\\Local\\Temp\\ipykernel_4336\\3849994051.py:2: FutureWarning: \n",
      "\n",
      "Passing `palette` without assigning `hue` is deprecated and will be removed in v0.14.0. Assign the `x` variable to `hue` and set `legend=False` for the same effect.\n",
      "\n",
      "  sns.barplot(data=df.query('query_type == \"news\"'), x='sex', y = 'click_position', palette='viridis')\n"
     ]
    },
    {
     "data": {
      "text/plain": [
       "<Axes: xlabel='sex', ylabel='click_position'>"
      ]
     },
     "execution_count": 19,
     "metadata": {},
     "output_type": "execute_result"
    },
    {
     "data": {
      "image/png": "[encoded data removed]",
      "text/plain": [
       "<Figure size 640x480 with 1 Axes>"
      ]
     },
     "metadata": {},
     "output_type": "display_data"
    }
   ],
   "source": [
    "# проблема наблюдается для все полов\n",
    "sns.barplot(data=df.query('query_type == \"news\"'), x='sex', y = 'click_position', palette='viridis')"
   ]
  },
  {
   "cell_type": "code",
   "execution_count": 20,
   "metadata": {},
   "outputs": [
    {
     "data": {
      "text/plain": [
       "<Axes: xlabel='click_position', ylabel='view_time'>"
      ]
     },
     "execution_count": 20,
     "metadata": {},
     "output_type": "execute_result"
    },
    {
     "data": {
      "image/png": "[encoded data removed]",
      "text/plain": [
       "<Figure size 640x480 with 1 Axes>"
      ]
     },
     "metadata": {},
     "output_type": "display_data"
    }
   ],
   "source": [
    "# видно что релевантный контент пользователи находят на больших кликах\n",
    "sns.lineplot(data=df[df['view_time'] > 0].query('query_type == \"news\"'), x='click_position', y='view_time', \n",
    "             estimator=np.mean, errorbar=None)"
   ]
  },
  {
   "cell_type": "code",
   "execution_count": 21,
   "metadata": {},
   "outputs": [
    {
     "data": {
      "text/html": [
       "<div>\n",
       "<style scoped>\n",
       "    .dataframe tbody tr th:only-of-type {\n",
       "        vertical-align: middle;\n",
       "    }\n",
       "\n",
       "    .dataframe tbody tr th {\n",
       "        vertical-align: top;\n",
       "    }\n",
       "\n",
       "    .dataframe thead th {\n",
       "        text-align: right;\n",
       "    }\n",
       "</style>\n",
       "<table border=\"1\" class=\"dataframe\">\n",
       "  <thead>\n",
       "    <tr style=\"text-align: right;\">\n",
       "      <th></th>\n",
       "      <th>query_type</th>\n",
       "      <th>count_query</th>\n",
       "    </tr>\n",
       "  </thead>\n",
       "  <tbody>\n",
       "    <tr>\n",
       "      <th>1</th>\n",
       "      <td>news</td>\n",
       "      <td>735</td>\n",
       "    </tr>\n",
       "    <tr>\n",
       "      <th>0</th>\n",
       "      <td>music</td>\n",
       "      <td>6</td>\n",
       "    </tr>\n",
       "    <tr>\n",
       "      <th>2</th>\n",
       "      <td>show</td>\n",
       "      <td>3</td>\n",
       "    </tr>\n",
       "  </tbody>\n",
       "</table>\n",
       "</div>"
      ],
      "text/plain": [
       "  query_type  count_query\n",
       "1       news          735\n",
       "0      music            6\n",
       "2       show            3"
      ]
     },
     "execution_count": 21,
     "metadata": {},
     "output_type": "execute_result"
    }
   ],
   "source": [
    "# рассмотрим эти случаи \n",
    "# 6 и 3 больше походят на выбросы, а вот 735 новостей после 20 клика должны о чем то говорить\n",
    "df[(df['click_position'] > 20)] \\\n",
    "    .groupby('query_type', as_index=False)['user_id'] \\\n",
    "    .count() \\\n",
    "    .rename(columns = {'user_id' : 'count_query'}) \\\n",
    "    .sort_values('count_query', ascending = False) "
   ]
  },
  {
   "cell_type": "code",
   "execution_count": 22,
   "metadata": {},
   "outputs": [
    {
     "data": {
      "text/plain": [
       "np.float64(14.7)"
      ]
     },
     "execution_count": 22,
     "metadata": {},
     "output_type": "execute_result"
    }
   ],
   "source": [
    "# посмотрим какую долю составляют эти клики, 14,7 процентов это довольно много, относительно других категорий\n",
    "(df[(df['click_position'] > 20) & (df['query_type'] == 'news')]['user_id'].count() / df[df['query_type'] == 'news']['user_id'].count()) * 100"
   ]
  },
  {
   "cell_type": "code",
   "execution_count": 23,
   "metadata": {},
   "outputs": [
    {
     "data": {
      "text/plain": [
       "np.float64(41.76870748299319)"
      ]
     },
     "execution_count": 23,
     "metadata": {},
     "output_type": "execute_result"
    }
   ],
   "source": [
    "# процент успешного действия высокий, что еще раз говорит о том что пользователям приходится долго листать новоти что бы найти релевантный контент\n",
    "news_critical = df[(df['click_position'] > 20) & (df['query_type'] == 'news')]\n",
    "news_critical[news_critical['success'] == 1]['user_id'].count() / news_critical.shape[0] * 100"
   ]
  },
  {
   "cell_type": "code",
   "execution_count": 24,
   "metadata": {},
   "outputs": [
    {
     "data": {
      "text/plain": [
       "np.float64(29.700073152889537)"
      ]
     },
     "execution_count": 24,
     "metadata": {},
     "output_type": "execute_result"
    }
   ],
   "source": [
    "# посмотрим на то же самое но теперь для новостей с кликом менее 20, процент успешного действия довольно сильно упал\n",
    "news_norm = df[(df['click_position'] < 20) & (df['query_type'] == 'news')]\n",
    "news_norm[news_norm['success'] == 1]['user_id'].count() / news_norm.shape[0] * 100"
   ]
  },
  {
   "cell_type": "code",
   "execution_count": 25,
   "metadata": {},
   "outputs": [
    {
     "data": {
      "text/plain": [
       "(np.float64(334.7265306122449), np.float64(242.8158985613265))"
      ]
     },
     "execution_count": 25,
     "metadata": {},
     "output_type": "execute_result"
    }
   ],
   "source": [
    "# обьяснит ли нам высокий процент успешного дествия резкий скачек времени просмотра на больших кликах\n",
    "mean_crit = news_critical.view_time.mean()\n",
    "mean_norm = news_norm.view_time.mean()\n",
    "mean_crit, mean_norm\n",
    "# средние довольно сильно различаются "
   ]
  },
  {
   "cell_type": "code",
   "execution_count": 26,
   "metadata": {},
   "outputs": [
    {
     "data": {
      "text/plain": [
       "(count     735.000000\n",
       " mean      334.726531\n",
       " std      1077.029442\n",
       " min         0.000000\n",
       " 25%         0.000000\n",
       " 50%         0.000000\n",
       " 75%         0.000000\n",
       " max      7060.000000\n",
       " Name: view_time, dtype: float64,\n",
       " count    4101.000000\n",
       " mean      242.815899\n",
       " std       928.090520\n",
       " min         0.000000\n",
       " 25%         0.000000\n",
       " 50%         0.000000\n",
       " 75%         0.000000\n",
       " max      7140.000000\n",
       " Name: view_time, dtype: float64)"
      ]
     },
     "execution_count": 26,
     "metadata": {},
     "output_type": "execute_result"
    }
   ],
   "source": [
    "news_critical.view_time.describe(), news_norm.view_time.describe()"
   ]
  },
  {
   "cell_type": "code",
   "execution_count": 27,
   "metadata": {},
   "outputs": [
    {
     "name": "stdout",
     "output_type": "stream",
     "text": [
      "Гипотезу о равенстве средних отвергаем\n"
     ]
    }
   ],
   "source": [
    "# проверим гипотезу что средние значения статистически не значимы с критическим уровнем значимости 0.05\n",
    "p_val = sts.ttest_ind_from_stats(mean1=mean_norm, mean2=mean_crit, std1=928.090520, std2=1077.029442, nobs1=news_norm.shape[0], nobs2=news_critical.shape[0])[1]\n",
    "if p_val < 0.05:\n",
    "    print(\"Гипотезу о равенстве средних отвергаем\")\n",
    "else:\n",
    "    print(\"Не можем отвергнуть гипотезу о равенстве средних\")"
   ]
  },
  {
   "cell_type": "markdown",
   "metadata": {},
   "source": [
    "Анализ категорий показал что поиск новостей работает в среднем хуже чем поиск по остальным категриям, пользователи находят релевантный контент после 20 документа, смотрят его больше <br>\n",
    "Возможно это связано с алгоритмом ранжирования новостей"
   ]
  },
  {
   "cell_type": "code",
   "execution_count": 28,
   "metadata": {},
   "outputs": [
    {
     "data": {
      "text/html": [
       "<div>\n",
       "<style scoped>\n",
       "    .dataframe tbody tr th:only-of-type {\n",
       "        vertical-align: middle;\n",
       "    }\n",
       "\n",
       "    .dataframe tbody tr th {\n",
       "        vertical-align: top;\n",
       "    }\n",
       "\n",
       "    .dataframe thead th {\n",
       "        text-align: right;\n",
       "    }\n",
       "</style>\n",
       "<table border=\"1\" class=\"dataframe\">\n",
       "  <thead>\n",
       "    <tr style=\"text-align: right;\">\n",
       "      <th></th>\n",
       "      <th>Unnamed: 0</th>\n",
       "      <th>user_id</th>\n",
       "      <th>sex</th>\n",
       "      <th>age</th>\n",
       "      <th>platform</th>\n",
       "      <th>query_id</th>\n",
       "      <th>query_text</th>\n",
       "      <th>query_type</th>\n",
       "      <th>event</th>\n",
       "      <th>click_position</th>\n",
       "      <th>doc_type</th>\n",
       "      <th>view_time</th>\n",
       "      <th>success</th>\n",
       "    </tr>\n",
       "  </thead>\n",
       "  <tbody>\n",
       "    <tr>\n",
       "      <th>0</th>\n",
       "      <td>0</td>\n",
       "      <td>96422511</td>\n",
       "      <td>female</td>\n",
       "      <td>68</td>\n",
       "      <td>android</td>\n",
       "      <td>89656828</td>\n",
       "      <td>передачи о новых технологиях</td>\n",
       "      <td>show</td>\n",
       "      <td>share</td>\n",
       "      <td>6</td>\n",
       "      <td>playlist</td>\n",
       "      <td>0</td>\n",
       "      <td>1</td>\n",
       "    </tr>\n",
       "    <tr>\n",
       "      <th>4</th>\n",
       "      <td>4</td>\n",
       "      <td>6206023</td>\n",
       "      <td>female</td>\n",
       "      <td>24</td>\n",
       "      <td>android</td>\n",
       "      <td>20838049</td>\n",
       "      <td>вики шоу аманда</td>\n",
       "      <td>show</td>\n",
       "      <td>subscribe</td>\n",
       "      <td>7</td>\n",
       "      <td>author</td>\n",
       "      <td>0</td>\n",
       "      <td>1</td>\n",
       "    </tr>\n",
       "    <tr>\n",
       "      <th>5</th>\n",
       "      <td>5</td>\n",
       "      <td>8004249</td>\n",
       "      <td>anonym</td>\n",
       "      <td>0</td>\n",
       "      <td>android</td>\n",
       "      <td>19760211</td>\n",
       "      <td>как купить билеты на Грибов</td>\n",
       "      <td>music</td>\n",
       "      <td>tap</td>\n",
       "      <td>1</td>\n",
       "      <td>author</td>\n",
       "      <td>0</td>\n",
       "      <td>0</td>\n",
       "    </tr>\n",
       "    <tr>\n",
       "      <th>6</th>\n",
       "      <td>6</td>\n",
       "      <td>11617125</td>\n",
       "      <td>female</td>\n",
       "      <td>66</td>\n",
       "      <td>android_tv</td>\n",
       "      <td>59650610</td>\n",
       "      <td>5+1 шоу парень бедный</td>\n",
       "      <td>show</td>\n",
       "      <td>subscribe</td>\n",
       "      <td>8</td>\n",
       "      <td>video</td>\n",
       "      <td>0</td>\n",
       "      <td>1</td>\n",
       "    </tr>\n",
       "    <tr>\n",
       "      <th>7</th>\n",
       "      <td>7</td>\n",
       "      <td>79473329</td>\n",
       "      <td>anonym</td>\n",
       "      <td>0</td>\n",
       "      <td>smart_tv</td>\n",
       "      <td>569617620</td>\n",
       "      <td>биография Мэрилин Монро</td>\n",
       "      <td>films</td>\n",
       "      <td>tap</td>\n",
       "      <td>5</td>\n",
       "      <td>clip</td>\n",
       "      <td>0</td>\n",
       "      <td>0</td>\n",
       "    </tr>\n",
       "  </tbody>\n",
       "</table>\n",
       "</div>"
      ],
      "text/plain": [
       "   Unnamed: 0   user_id     sex  age    platform   query_id  \\\n",
       "0           0  96422511  female   68     android   89656828   \n",
       "4           4   6206023  female   24     android   20838049   \n",
       "5           5   8004249  anonym    0     android   19760211   \n",
       "6           6  11617125  female   66  android_tv   59650610   \n",
       "7           7  79473329  anonym    0    smart_tv  569617620   \n",
       "\n",
       "                     query_text query_type      event  click_position  \\\n",
       "0  передачи о новых технологиях       show      share               6   \n",
       "4               вики шоу аманда       show  subscribe               7   \n",
       "5   как купить билеты на Грибов      music        tap               1   \n",
       "6        5+1 шоу парень бедный        show  subscribe               8   \n",
       "7       биография Мэрилин Монро      films        tap               5   \n",
       "\n",
       "   doc_type  view_time  success  \n",
       "0  playlist          0        1  \n",
       "4    author          0        1  \n",
       "5    author          0        0  \n",
       "6     video          0        1  \n",
       "7      clip          0        0  "
      ]
     },
     "execution_count": 28,
     "metadata": {},
     "output_type": "execute_result"
    }
   ],
   "source": [
    "# исключим новости из датасета, так как они будут влиять на показатели \n",
    "df_no_news = df[df['query_type'] != 'news']\n",
    "df_no_news.head(5)"
   ]
  },
  {
   "cell_type": "code",
   "execution_count": 29,
   "metadata": {},
   "outputs": [
    {
     "name": "stderr",
     "output_type": "stream",
     "text": [
      "C:\\Users\\den\\AppData\\Local\\Temp\\ipykernel_4336\\3702765985.py:2: FutureWarning: \n",
      "\n",
      "Passing `palette` without assigning `hue` is deprecated and will be removed in v0.14.0. Assign the `x` variable to `hue` and set `legend=False` for the same effect.\n",
      "\n",
      "  sns.barplot(data=df_no_news, x = 'platform', y = 'view_time', palette='viridis')\n"
     ]
    },
    {
     "data": {
      "text/plain": [
       "<Axes: xlabel='platform', ylabel='view_time'>"
      ]
     },
     "execution_count": 29,
     "metadata": {},
     "output_type": "execute_result"
    },
    {
     "data": {
      "image/png": "[encoded data removed]",
      "text/plain": [
       "<Figure size 640x480 with 1 Axes>"
      ]
     },
     "metadata": {},
     "output_type": "display_data"
    }
   ],
   "source": [
    "# посмотрим сколько времени в среднем люди тратят на просмотр контента на разных клатформах\n",
    "sns.barplot(data=df_no_news, x = 'platform', y = 'view_time', palette='viridis')"
   ]
  },
  {
   "cell_type": "code",
   "execution_count": 30,
   "metadata": {},
   "outputs": [
    {
     "data": {
      "text/html": [
       "<div>\n",
       "<style scoped>\n",
       "    .dataframe tbody tr th:only-of-type {\n",
       "        vertical-align: middle;\n",
       "    }\n",
       "\n",
       "    .dataframe tbody tr th {\n",
       "        vertical-align: top;\n",
       "    }\n",
       "\n",
       "    .dataframe thead th {\n",
       "        text-align: right;\n",
       "    }\n",
       "</style>\n",
       "<table border=\"1\" class=\"dataframe\">\n",
       "  <thead>\n",
       "    <tr style=\"text-align: right;\">\n",
       "      <th></th>\n",
       "      <th>platform</th>\n",
       "      <th>count_films</th>\n",
       "    </tr>\n",
       "  </thead>\n",
       "  <tbody>\n",
       "    <tr>\n",
       "      <th>3</th>\n",
       "      <td>smart_tv</td>\n",
       "      <td>2066</td>\n",
       "    </tr>\n",
       "    <tr>\n",
       "      <th>1</th>\n",
       "      <td>android_tv</td>\n",
       "      <td>1918</td>\n",
       "    </tr>\n",
       "    <tr>\n",
       "      <th>2</th>\n",
       "      <td>iphone</td>\n",
       "      <td>475</td>\n",
       "    </tr>\n",
       "    <tr>\n",
       "      <th>0</th>\n",
       "      <td>android</td>\n",
       "      <td>279</td>\n",
       "    </tr>\n",
       "    <tr>\n",
       "      <th>4</th>\n",
       "      <td>web</td>\n",
       "      <td>262</td>\n",
       "    </tr>\n",
       "  </tbody>\n",
       "</table>\n",
       "</div>"
      ],
      "text/plain": [
       "     platform  count_films\n",
       "3    smart_tv         2066\n",
       "1  android_tv         1918\n",
       "2      iphone          475\n",
       "0     android          279\n",
       "4         web          262"
      ]
     },
     "execution_count": 30,
     "metadata": {},
     "output_type": "execute_result"
    }
   ],
   "source": [
    "# время просмотра на телевизорах в среднем больше чем на других платформах, проверим связано ли это с тем что на телефизорах чаще всего смотрят фильмы\n",
    "df_no_news[df_no_news['query_type'] == 'films'].groupby('platform', as_index=False)['user_id'].count().sort_values('user_id', ascending=False).rename(columns = {'user_id' : 'count_films'})"
   ]
  },
  {
   "cell_type": "code",
   "execution_count": 32,
   "metadata": {},
   "outputs": [
    {
     "data": {
      "text/plain": [
       "<Axes: xlabel='click_position', ylabel='view_time'>"
      ]
     },
     "execution_count": 32,
     "metadata": {},
     "output_type": "execute_result"
    },
    {
     "data": {
      "image/png": "[encoded data removed]",
      "text/plain": [
       "<Figure size 1200x800 with 1 Axes>"
      ]
     },
     "metadata": {},
     "output_type": "display_data"
    }
   ],
   "source": [
    "# посмотрим как распделится время по кликам, смотрим только успешные запросы\n",
    "plt.figure(figsize=(12,8))\n",
    "sns.lineplot(x='click_position', y='view_time', estimator=np.mean,\n",
    "             data=df_no_news[(df_no_news['success']== 1) & (df_no_news['query_type'] != 'news')], \n",
    "             hue='query_type', errorbar=('ci', 0))"
   ]
  },
  {
   "cell_type": "markdown",
   "metadata": {},
   "source": [
    "Подробнее посмотрим на музыку"
   ]
  },
  {
   "cell_type": "code",
   "execution_count": 33,
   "metadata": {},
   "outputs": [
    {
     "data": {
      "text/html": [
       "<div>\n",
       "<style scoped>\n",
       "    .dataframe tbody tr th:only-of-type {\n",
       "        vertical-align: middle;\n",
       "    }\n",
       "\n",
       "    .dataframe tbody tr th {\n",
       "        vertical-align: top;\n",
       "    }\n",
       "\n",
       "    .dataframe thead th {\n",
       "        text-align: right;\n",
       "    }\n",
       "</style>\n",
       "<table border=\"1\" class=\"dataframe\">\n",
       "  <thead>\n",
       "    <tr style=\"text-align: right;\">\n",
       "      <th></th>\n",
       "      <th>Unnamed: 0</th>\n",
       "      <th>user_id</th>\n",
       "      <th>sex</th>\n",
       "      <th>age</th>\n",
       "      <th>platform</th>\n",
       "      <th>query_id</th>\n",
       "      <th>query_text</th>\n",
       "      <th>query_type</th>\n",
       "      <th>event</th>\n",
       "      <th>click_position</th>\n",
       "      <th>doc_type</th>\n",
       "      <th>view_time</th>\n",
       "      <th>success</th>\n",
       "    </tr>\n",
       "  </thead>\n",
       "  <tbody>\n",
       "    <tr>\n",
       "      <th>1152</th>\n",
       "      <td>1152</td>\n",
       "      <td>81917641</td>\n",
       "      <td>female</td>\n",
       "      <td>59</td>\n",
       "      <td>android</td>\n",
       "      <td>1499403</td>\n",
       "      <td>самые загружаемые треки</td>\n",
       "      <td>music</td>\n",
       "      <td>like</td>\n",
       "      <td>23</td>\n",
       "      <td>video</td>\n",
       "      <td>0</td>\n",
       "      <td>1</td>\n",
       "    </tr>\n",
       "    <tr>\n",
       "      <th>4636</th>\n",
       "      <td>4636</td>\n",
       "      <td>77602154</td>\n",
       "      <td>female</td>\n",
       "      <td>23</td>\n",
       "      <td>android_tv</td>\n",
       "      <td>4898871</td>\n",
       "      <td>микрофоны для студийного вокала</td>\n",
       "      <td>music</td>\n",
       "      <td>subscribe</td>\n",
       "      <td>22</td>\n",
       "      <td>video</td>\n",
       "      <td>0</td>\n",
       "      <td>1</td>\n",
       "    </tr>\n",
       "    <tr>\n",
       "      <th>6231</th>\n",
       "      <td>6231</td>\n",
       "      <td>10485556</td>\n",
       "      <td>female</td>\n",
       "      <td>32</td>\n",
       "      <td>android</td>\n",
       "      <td>74035402</td>\n",
       "      <td>шолшое шоу 11</td>\n",
       "      <td>show</td>\n",
       "      <td>tap</td>\n",
       "      <td>21</td>\n",
       "      <td>clip</td>\n",
       "      <td>0</td>\n",
       "      <td>0</td>\n",
       "    </tr>\n",
       "    <tr>\n",
       "      <th>6697</th>\n",
       "      <td>6697</td>\n",
       "      <td>93262124</td>\n",
       "      <td>female</td>\n",
       "      <td>26</td>\n",
       "      <td>iphone</td>\n",
       "      <td>69643141</td>\n",
       "      <td>обучение игре на укулеле</td>\n",
       "      <td>music</td>\n",
       "      <td>like</td>\n",
       "      <td>21</td>\n",
       "      <td>video</td>\n",
       "      <td>0</td>\n",
       "      <td>1</td>\n",
       "    </tr>\n",
       "    <tr>\n",
       "      <th>7734</th>\n",
       "      <td>7734</td>\n",
       "      <td>68791078</td>\n",
       "      <td>female</td>\n",
       "      <td>50</td>\n",
       "      <td>web</td>\n",
       "      <td>96966789</td>\n",
       "      <td>музыкальные чарты сегодня</td>\n",
       "      <td>music</td>\n",
       "      <td>subscribe</td>\n",
       "      <td>23</td>\n",
       "      <td>video</td>\n",
       "      <td>0</td>\n",
       "      <td>1</td>\n",
       "    </tr>\n",
       "    <tr>\n",
       "      <th>11292</th>\n",
       "      <td>11292</td>\n",
       "      <td>96180554</td>\n",
       "      <td>female</td>\n",
       "      <td>23</td>\n",
       "      <td>smart_tv</td>\n",
       "      <td>67174162</td>\n",
       "      <td>что сейчас слушают</td>\n",
       "      <td>music</td>\n",
       "      <td>subscribe</td>\n",
       "      <td>21</td>\n",
       "      <td>clip</td>\n",
       "      <td>0</td>\n",
       "      <td>1</td>\n",
       "    </tr>\n",
       "    <tr>\n",
       "      <th>11674</th>\n",
       "      <td>11674</td>\n",
       "      <td>36619373</td>\n",
       "      <td>female</td>\n",
       "      <td>39</td>\n",
       "      <td>smart_tv</td>\n",
       "      <td>32116798</td>\n",
       "      <td>Вик шоу попала в Страшный дом</td>\n",
       "      <td>show</td>\n",
       "      <td>tap</td>\n",
       "      <td>22</td>\n",
       "      <td>author</td>\n",
       "      <td>0</td>\n",
       "      <td>0</td>\n",
       "    </tr>\n",
       "    <tr>\n",
       "      <th>17113</th>\n",
       "      <td>17113</td>\n",
       "      <td>46134284</td>\n",
       "      <td>female</td>\n",
       "      <td>61</td>\n",
       "      <td>web</td>\n",
       "      <td>77488774</td>\n",
       "      <td>бльшое шоу 11 сезон</td>\n",
       "      <td>show</td>\n",
       "      <td>share</td>\n",
       "      <td>22</td>\n",
       "      <td>author</td>\n",
       "      <td>0</td>\n",
       "      <td>1</td>\n",
       "    </tr>\n",
       "    <tr>\n",
       "      <th>17166</th>\n",
       "      <td>17166</td>\n",
       "      <td>26205021</td>\n",
       "      <td>male</td>\n",
       "      <td>15</td>\n",
       "      <td>android</td>\n",
       "      <td>34174039</td>\n",
       "      <td>как создаются хиты</td>\n",
       "      <td>music</td>\n",
       "      <td>view</td>\n",
       "      <td>22</td>\n",
       "      <td>video</td>\n",
       "      <td>9139</td>\n",
       "      <td>1</td>\n",
       "    </tr>\n",
       "  </tbody>\n",
       "</table>\n",
       "</div>"
      ],
      "text/plain": [
       "       Unnamed: 0   user_id     sex  age    platform  query_id  \\\n",
       "1152         1152  81917641  female   59     android   1499403   \n",
       "4636         4636  77602154  female   23  android_tv   4898871   \n",
       "6231         6231  10485556  female   32     android  74035402   \n",
       "6697         6697  93262124  female   26      iphone  69643141   \n",
       "7734         7734  68791078  female   50         web  96966789   \n",
       "11292       11292  96180554  female   23    smart_tv  67174162   \n",
       "11674       11674  36619373  female   39    smart_tv  32116798   \n",
       "17113       17113  46134284  female   61         web  77488774   \n",
       "17166       17166  26205021    male   15     android  34174039   \n",
       "\n",
       "                            query_text query_type      event  click_position  \\\n",
       "1152           самые загружаемые треки      music       like              23   \n",
       "4636   микрофоны для студийного вокала      music  subscribe              22   \n",
       "6231                    шолшое шоу 11        show        tap              21   \n",
       "6697          обучение игре на укулеле      music       like              21   \n",
       "7734         музыкальные чарты сегодня      music  subscribe              23   \n",
       "11292               что сейчас слушают      music  subscribe              21   \n",
       "11674    Вик шоу попала в Страшный дом       show        tap              22   \n",
       "17113              бльшое шоу 11 сезон       show      share              22   \n",
       "17166               как создаются хиты      music       view              22   \n",
       "\n",
       "      doc_type  view_time  success  \n",
       "1152     video          0        1  \n",
       "4636     video          0        1  \n",
       "6231      clip          0        0  \n",
       "6697     video          0        1  \n",
       "7734     video          0        1  \n",
       "11292     clip          0        1  \n",
       "11674   author          0        0  \n",
       "17113   author          0        1  \n",
       "17166    video       9139        1  "
      ]
     },
     "execution_count": 33,
     "metadata": {},
     "output_type": "execute_result"
    }
   ],
   "source": [
    "# видим что такой скачек обусловлен одним пользователем, он смотрел видео о музыке 2.5 часа, это точно выброс, посмотрим на все выбросы \n",
    "df_no_news[df_no_news['click_position'] > 20]"
   ]
  },
  {
   "cell_type": "code",
   "execution_count": 72,
   "metadata": {},
   "outputs": [
    {
     "name": "stderr",
     "output_type": "stream",
     "text": [
      "C:\\Users\\den\\AppData\\Local\\Temp\\ipykernel_7340\\1640782622.py:2: FutureWarning: \n",
      "\n",
      "Passing `palette` without assigning `hue` is deprecated and will be removed in v0.14.0. Assign the `x` variable to `hue` and set `legend=False` for the same effect.\n",
      "\n",
      "  sns.boxplot(data=df_no_news[df_no_news['view_time'] > 0], x = 'query_type' ,y = 'view_time', palette='viridis')\n"
     ]
    },
    {
     "data": {
      "text/plain": [
       "<Axes: xlabel='query_type', ylabel='view_time'>"
      ]
     },
     "execution_count": 72,
     "metadata": {},
     "output_type": "execute_result"
    },
    {
     "data": {
      "image/png": "[encoded data removed]",
      "text/plain": [
       "<Figure size 640x480 with 1 Axes>"
      ]
     },
     "metadata": {},
     "output_type": "display_data"
    }
   ],
   "source": [
    "# видно что выбросов для музыки много, а для остальных категорий их и вовсе нет \n",
    "sns.boxplot(data=df_no_news[df_no_news['view_time'] > 0], x = 'query_type' ,y = 'view_time', palette='viridis')"
   ]
  },
  {
   "cell_type": "code",
   "execution_count": 73,
   "metadata": {},
   "outputs": [
    {
     "name": "stderr",
     "output_type": "stream",
     "text": [
      "C:\\Users\\den\\AppData\\Local\\Temp\\ipykernel_7340\\755121483.py:2: FutureWarning: \n",
      "\n",
      "Passing `palette` without assigning `hue` is deprecated and will be removed in v0.14.0. Assign the `x` variable to `hue` and set `legend=False` for the same effect.\n",
      "\n",
      "  sns.boxplot(data=df_no_news[df_no_news['view_time'] > 0], x = 'doc_type' ,y = 'view_time', palette='viridis')\n"
     ]
    },
    {
     "data": {
      "text/plain": [
       "<Axes: xlabel='doc_type', ylabel='view_time'>"
      ]
     },
     "execution_count": 73,
     "metadata": {},
     "output_type": "execute_result"
    },
    {
     "data": {
      "image/png": "[encoded data removed]",
      "text/plain": [
       "<Figure size 640x480 with 1 Axes>"
      ]
     },
     "metadata": {},
     "output_type": "display_data"
    }
   ],
   "source": [
    "# посмотрим музыку но с разбивкой для типа документа, почти все выбросы для клипов, это нормально, так как пользователь может \"залипнуть\" и смореть дольше среднего, тут проблем нет \n",
    "sns.boxplot(data=df_no_news[df_no_news['view_time'] > 0], x = 'doc_type' ,y = 'view_time', palette='viridis')"
   ]
  },
  {
   "cell_type": "code",
   "execution_count": null,
   "metadata": {},
   "outputs": [
    {
     "data": {
      "text/plain": [
       "<Axes: xlabel='click_position', ylabel='view_time'>"
      ]
     },
     "execution_count": 34,
     "metadata": {},
     "output_type": "execute_result"
    },
    {
     "data": {
      "image/png": "[encoded data removed]",
      "text/plain": [
       "<Figure size 1200x800 with 1 Axes>"
      ]
     },
     "metadata": {},
     "output_type": "display_data"
    }
   ],
   "source": [
    "# резкий скачек для android обусловлен пользователем который долго смотрел музыку \n",
    "plt.figure(figsize=(12,8))\n",
    "sns.lineplot(x='click_position', y='view_time', estimator=np.mean, data=df_no_news[df_no_news['success']== 1], hue='platform', errorbar=('ci', 0))"
   ]
  },
  {
   "cell_type": "code",
   "execution_count": null,
   "metadata": {},
   "outputs": [
    {
     "data": {
      "text/html": [
       "<div>\n",
       "<style scoped>\n",
       "    .dataframe tbody tr th:only-of-type {\n",
       "        vertical-align: middle;\n",
       "    }\n",
       "\n",
       "    .dataframe tbody tr th {\n",
       "        vertical-align: top;\n",
       "    }\n",
       "\n",
       "    .dataframe thead th {\n",
       "        text-align: right;\n",
       "    }\n",
       "</style>\n",
       "<table border=\"1\" class=\"dataframe\">\n",
       "  <thead>\n",
       "    <tr style=\"text-align: right;\">\n",
       "      <th></th>\n",
       "      <th>Unnamed: 0</th>\n",
       "      <th>user_id</th>\n",
       "      <th>sex</th>\n",
       "      <th>age</th>\n",
       "      <th>platform</th>\n",
       "      <th>query_id</th>\n",
       "      <th>query_text</th>\n",
       "      <th>query_type</th>\n",
       "      <th>event</th>\n",
       "      <th>click_position</th>\n",
       "      <th>doc_type</th>\n",
       "      <th>view_time</th>\n",
       "      <th>success</th>\n",
       "    </tr>\n",
       "  </thead>\n",
       "  <tbody>\n",
       "    <tr>\n",
       "      <th>17166</th>\n",
       "      <td>17166</td>\n",
       "      <td>26205021</td>\n",
       "      <td>male</td>\n",
       "      <td>15</td>\n",
       "      <td>android</td>\n",
       "      <td>34174039</td>\n",
       "      <td>как создаются хиты</td>\n",
       "      <td>music</td>\n",
       "      <td>view</td>\n",
       "      <td>22</td>\n",
       "      <td>video</td>\n",
       "      <td>9139</td>\n",
       "      <td>1</td>\n",
       "    </tr>\n",
       "  </tbody>\n",
       "</table>\n",
       "</div>"
      ],
      "text/plain": [
       "       Unnamed: 0   user_id   sex  age platform  query_id          query_text  \\\n",
       "17166       17166  26205021  male   15  android  34174039  как создаются хиты   \n",
       "\n",
       "      query_type event  click_position doc_type  view_time  success  \n",
       "17166      music  view              22    video       9139        1  "
      ]
     },
     "execution_count": 38,
     "metadata": {},
     "output_type": "execute_result"
    }
   ],
   "source": [
    "# один пользователь, который и создал скачек на графике\n",
    "df_no_news[(df_no_news['click_position'] > 20) & (df_no_news['view_time'] > 0)]"
   ]
  },
  {
   "cell_type": "code",
   "execution_count": null,
   "metadata": {},
   "outputs": [
    {
     "data": {
      "text/html": [
       "<div>\n",
       "<style scoped>\n",
       "    .dataframe tbody tr th:only-of-type {\n",
       "        vertical-align: middle;\n",
       "    }\n",
       "\n",
       "    .dataframe tbody tr th {\n",
       "        vertical-align: top;\n",
       "    }\n",
       "\n",
       "    .dataframe thead th {\n",
       "        text-align: right;\n",
       "    }\n",
       "</style>\n",
       "<table border=\"1\" class=\"dataframe\">\n",
       "  <thead>\n",
       "    <tr style=\"text-align: right;\">\n",
       "      <th></th>\n",
       "      <th>sex</th>\n",
       "      <th>view_time</th>\n",
       "    </tr>\n",
       "  </thead>\n",
       "  <tbody>\n",
       "    <tr>\n",
       "      <th>0</th>\n",
       "      <td>anonym</td>\n",
       "      <td>6318.741972</td>\n",
       "    </tr>\n",
       "    <tr>\n",
       "      <th>1</th>\n",
       "      <td>female</td>\n",
       "      <td>3033.574501</td>\n",
       "    </tr>\n",
       "    <tr>\n",
       "      <th>2</th>\n",
       "      <td>male</td>\n",
       "      <td>3816.759085</td>\n",
       "    </tr>\n",
       "  </tbody>\n",
       "</table>\n",
       "</div>"
      ],
      "text/plain": [
       "      sex    view_time\n",
       "0  anonym  6318.741972\n",
       "1  female  3033.574501\n",
       "2    male  3816.759085"
      ]
     },
     "execution_count": 39,
     "metadata": {},
     "output_type": "execute_result"
    }
   ],
   "source": [
    "# время просмотра для разных полов, есть странности для анонимных пользователей \n",
    "df[df['view_time'] > 0].groupby('sex', as_index=False).agg({'view_time' : 'mean'})"
   ]
  },
  {
   "cell_type": "code",
   "execution_count": null,
   "metadata": {},
   "outputs": [
    {
     "data": {
      "text/plain": [
       "<Axes: xlabel='query_type', ylabel='view_time'>"
      ]
     },
     "execution_count": 42,
     "metadata": {},
     "output_type": "execute_result"
    },
    {
     "data": {
      "image/png": "[encoded data removed]",
      "text/plain": [
       "<Figure size 600x400 with 1 Axes>"
      ]
     },
     "metadata": {},
     "output_type": "display_data"
    }
   ],
   "source": [
    "# на данном графике таких странностей нет, возможно анонимные пользователи чаще ищут фильмы нежели остальные категрии \n",
    "plt.figure(figsize=(6,4))\n",
    "sns.barplot(data = df[df['view_time'] > 0], x='query_type', y='view_time', hue='sex', estimator=np.mean)"
   ]
  },
  {
   "cell_type": "code",
   "execution_count": null,
   "metadata": {},
   "outputs": [
    {
     "data": {
      "text/html": [
       "<div>\n",
       "<style scoped>\n",
       "    .dataframe tbody tr th:only-of-type {\n",
       "        vertical-align: middle;\n",
       "    }\n",
       "\n",
       "    .dataframe tbody tr th {\n",
       "        vertical-align: top;\n",
       "    }\n",
       "\n",
       "    .dataframe thead th {\n",
       "        text-align: right;\n",
       "    }\n",
       "</style>\n",
       "<table border=\"1\" class=\"dataframe\">\n",
       "  <thead>\n",
       "    <tr style=\"text-align: right;\">\n",
       "      <th></th>\n",
       "      <th>sex</th>\n",
       "      <th>click_position</th>\n",
       "    </tr>\n",
       "  </thead>\n",
       "  <tbody>\n",
       "    <tr>\n",
       "      <th>0</th>\n",
       "      <td>anonym</td>\n",
       "      <td>4.0</td>\n",
       "    </tr>\n",
       "    <tr>\n",
       "      <th>1</th>\n",
       "      <td>female</td>\n",
       "      <td>9.0</td>\n",
       "    </tr>\n",
       "    <tr>\n",
       "      <th>2</th>\n",
       "      <td>male</td>\n",
       "      <td>8.0</td>\n",
       "    </tr>\n",
       "  </tbody>\n",
       "</table>\n",
       "</div>"
      ],
      "text/plain": [
       "      sex  click_position\n",
       "0  anonym             4.0\n",
       "1  female             9.0\n",
       "2    male             8.0"
      ]
     },
     "execution_count": 44,
     "metadata": {},
     "output_type": "execute_result"
    }
   ],
   "source": [
    "# посмотрим на средние клики для разных полов, получается странность, анонимные пользователи смотрят дольше и находят контент раньше\n",
    "df[df['view_time'] > 0].groupby('sex', as_index=False).agg({'click_position' : 'median'})"
   ]
  },
  {
   "cell_type": "code",
   "execution_count": null,
   "metadata": {},
   "outputs": [
    {
     "data": {
      "text/html": [
       "<div>\n",
       "<style scoped>\n",
       "    .dataframe tbody tr th:only-of-type {\n",
       "        vertical-align: middle;\n",
       "    }\n",
       "\n",
       "    .dataframe tbody tr th {\n",
       "        vertical-align: top;\n",
       "    }\n",
       "\n",
       "    .dataframe thead th {\n",
       "        text-align: right;\n",
       "    }\n",
       "</style>\n",
       "<table border=\"1\" class=\"dataframe\">\n",
       "  <thead>\n",
       "    <tr style=\"text-align: right;\">\n",
       "      <th></th>\n",
       "      <th>query_type</th>\n",
       "      <th>sex</th>\n",
       "      <th>count</th>\n",
       "    </tr>\n",
       "  </thead>\n",
       "  <tbody>\n",
       "    <tr>\n",
       "      <th>0</th>\n",
       "      <td>films</td>\n",
       "      <td>anonym</td>\n",
       "      <td>3278</td>\n",
       "    </tr>\n",
       "    <tr>\n",
       "      <th>7</th>\n",
       "      <td>news</td>\n",
       "      <td>female</td>\n",
       "      <td>3183</td>\n",
       "    </tr>\n",
       "    <tr>\n",
       "      <th>4</th>\n",
       "      <td>music</td>\n",
       "      <td>female</td>\n",
       "      <td>3048</td>\n",
       "    </tr>\n",
       "    <tr>\n",
       "      <th>10</th>\n",
       "      <td>show</td>\n",
       "      <td>female</td>\n",
       "      <td>2964</td>\n",
       "    </tr>\n",
       "    <tr>\n",
       "      <th>8</th>\n",
       "      <td>news</td>\n",
       "      <td>male</td>\n",
       "      <td>1611</td>\n",
       "    </tr>\n",
       "    <tr>\n",
       "      <th>11</th>\n",
       "      <td>show</td>\n",
       "      <td>male</td>\n",
       "      <td>1529</td>\n",
       "    </tr>\n",
       "    <tr>\n",
       "      <th>5</th>\n",
       "      <td>music</td>\n",
       "      <td>male</td>\n",
       "      <td>1464</td>\n",
       "    </tr>\n",
       "    <tr>\n",
       "      <th>1</th>\n",
       "      <td>films</td>\n",
       "      <td>female</td>\n",
       "      <td>880</td>\n",
       "    </tr>\n",
       "    <tr>\n",
       "      <th>2</th>\n",
       "      <td>films</td>\n",
       "      <td>male</td>\n",
       "      <td>842</td>\n",
       "    </tr>\n",
       "    <tr>\n",
       "      <th>9</th>\n",
       "      <td>show</td>\n",
       "      <td>anonym</td>\n",
       "      <td>507</td>\n",
       "    </tr>\n",
       "    <tr>\n",
       "      <th>3</th>\n",
       "      <td>music</td>\n",
       "      <td>anonym</td>\n",
       "      <td>488</td>\n",
       "    </tr>\n",
       "    <tr>\n",
       "      <th>6</th>\n",
       "      <td>news</td>\n",
       "      <td>anonym</td>\n",
       "      <td>206</td>\n",
       "    </tr>\n",
       "  </tbody>\n",
       "</table>\n",
       "</div>"
      ],
      "text/plain": [
       "   query_type     sex  count\n",
       "0       films  anonym   3278\n",
       "7        news  female   3183\n",
       "4       music  female   3048\n",
       "10       show  female   2964\n",
       "8        news    male   1611\n",
       "11       show    male   1529\n",
       "5       music    male   1464\n",
       "1       films  female    880\n",
       "2       films    male    842\n",
       "9        show  anonym    507\n",
       "3       music  anonym    488\n",
       "6        news  anonym    206"
      ]
     },
     "execution_count": 50,
     "metadata": {},
     "output_type": "execute_result"
    }
   ],
   "source": [
    "# посмотрим что чаще всего ищут анонимные пользователи\n",
    "df.groupby(['query_type', 'sex'], as_index=False)['user_id'].count().sort_values('user_id', ascending=False).rename(columns={'user_id' : 'count'})"
   ]
  },
  {
   "cell_type": "markdown",
   "metadata": {},
   "source": [
    "странности для анонимных пользователей обьясняются тем, что они чаще ищут фильмы, соотвественно фильм легче найти и дольше смотреть"
   ]
  },
  {
   "cell_type": "code",
   "execution_count": 53,
   "metadata": {},
   "outputs": [
    {
     "data": {
      "text/html": [
       "<div>\n",
       "<style scoped>\n",
       "    .dataframe tbody tr th:only-of-type {\n",
       "        vertical-align: middle;\n",
       "    }\n",
       "\n",
       "    .dataframe tbody tr th {\n",
       "        vertical-align: top;\n",
       "    }\n",
       "\n",
       "    .dataframe thead th {\n",
       "        text-align: right;\n",
       "    }\n",
       "</style>\n",
       "<table border=\"1\" class=\"dataframe\">\n",
       "  <thead>\n",
       "    <tr style=\"text-align: right;\">\n",
       "      <th></th>\n",
       "      <th>doc_type</th>\n",
       "      <th>view_time</th>\n",
       "    </tr>\n",
       "  </thead>\n",
       "  <tbody>\n",
       "    <tr>\n",
       "      <th>0</th>\n",
       "      <td>clip</td>\n",
       "      <td>1337.170524</td>\n",
       "    </tr>\n",
       "    <tr>\n",
       "      <th>1</th>\n",
       "      <td>playlist</td>\n",
       "      <td>4060.716792</td>\n",
       "    </tr>\n",
       "    <tr>\n",
       "      <th>2</th>\n",
       "      <td>video</td>\n",
       "      <td>7744.429373</td>\n",
       "    </tr>\n",
       "  </tbody>\n",
       "</table>\n",
       "</div>"
      ],
      "text/plain": [
       "   doc_type    view_time\n",
       "0      clip  1337.170524\n",
       "1  playlist  4060.716792\n",
       "2     video  7744.429373"
      ]
     },
     "execution_count": 53,
     "metadata": {},
     "output_type": "execute_result"
    }
   ],
   "source": [
    "df_no_news[df_no_news['view_time'] > 0].groupby('doc_type', as_index=False).agg({'view_time' : 'mean'})"
   ]
  },
  {
   "cell_type": "code",
   "execution_count": 53,
   "metadata": {},
   "outputs": [
    {
     "data": {
      "text/html": [
       "<div>\n",
       "<style scoped>\n",
       "    .dataframe tbody tr th:only-of-type {\n",
       "        vertical-align: middle;\n",
       "    }\n",
       "\n",
       "    .dataframe tbody tr th {\n",
       "        vertical-align: top;\n",
       "    }\n",
       "\n",
       "    .dataframe thead th {\n",
       "        text-align: right;\n",
       "    }\n",
       "</style>\n",
       "<table border=\"1\" class=\"dataframe\">\n",
       "  <thead>\n",
       "    <tr style=\"text-align: right;\">\n",
       "      <th></th>\n",
       "      <th>sex</th>\n",
       "      <th>percentage</th>\n",
       "    </tr>\n",
       "  </thead>\n",
       "  <tbody>\n",
       "    <tr>\n",
       "      <th>0</th>\n",
       "      <td>female</td>\n",
       "      <td>50.38</td>\n",
       "    </tr>\n",
       "    <tr>\n",
       "      <th>1</th>\n",
       "      <td>male</td>\n",
       "      <td>27.23</td>\n",
       "    </tr>\n",
       "    <tr>\n",
       "      <th>2</th>\n",
       "      <td>anonym</td>\n",
       "      <td>22.40</td>\n",
       "    </tr>\n",
       "  </tbody>\n",
       "</table>\n",
       "</div>"
      ],
      "text/plain": [
       "      sex  percentage\n",
       "0  female       50.38\n",
       "1    male       27.23\n",
       "2  anonym       22.40"
      ]
     },
     "execution_count": 53,
     "metadata": {},
     "output_type": "execute_result"
    }
   ],
   "source": [
    "# заметно что мужчины реже регистрируют аккаунты \n",
    "df.sex.value_counts(normalize=True) \\\n",
    "        .mul(100) \\\n",
    "        .round(2) \\\n",
    "        .reset_index() \\\n",
    "        .rename(columns={'proportion' : 'percentage'})"
   ]
  },
  {
   "cell_type": "code",
   "execution_count": 50,
   "metadata": {},
   "outputs": [
    {
     "data": {
      "text/html": [
       "<div>\n",
       "<style scoped>\n",
       "    .dataframe tbody tr th:only-of-type {\n",
       "        vertical-align: middle;\n",
       "    }\n",
       "\n",
       "    .dataframe tbody tr th {\n",
       "        vertical-align: top;\n",
       "    }\n",
       "\n",
       "    .dataframe thead th {\n",
       "        text-align: right;\n",
       "    }\n",
       "</style>\n",
       "<table border=\"1\" class=\"dataframe\">\n",
       "  <thead>\n",
       "    <tr style=\"text-align: right;\">\n",
       "      <th></th>\n",
       "      <th>query_type</th>\n",
       "      <th>view_time</th>\n",
       "    </tr>\n",
       "  </thead>\n",
       "  <tbody>\n",
       "    <tr>\n",
       "      <th>0</th>\n",
       "      <td>films</td>\n",
       "      <td>6392.500000</td>\n",
       "    </tr>\n",
       "    <tr>\n",
       "      <th>1</th>\n",
       "      <td>music</td>\n",
       "      <td>2687.976744</td>\n",
       "    </tr>\n",
       "    <tr>\n",
       "      <th>2</th>\n",
       "      <td>show</td>\n",
       "      <td>4003.500000</td>\n",
       "    </tr>\n",
       "  </tbody>\n",
       "</table>\n",
       "</div>"
      ],
      "text/plain": [
       "  query_type    view_time\n",
       "0      films  6392.500000\n",
       "1      music  2687.976744\n",
       "2       show  4003.500000"
      ]
     },
     "execution_count": 50,
     "metadata": {},
     "output_type": "execute_result"
    }
   ],
   "source": [
    "# время просмотра на кликах больше 15\n",
    "df_no_news[(df_no_news['click_position'] > 15) & (df_no_news['view_time'] > 0)] \\\n",
    "            .groupby('query_type', as_index=False) \\\n",
    "            .agg({'view_time' : 'mean'})"
   ]
  },
  {
   "cell_type": "code",
   "execution_count": null,
   "metadata": {},
   "outputs": [
    {
     "data": {
      "text/html": [
       "<div>\n",
       "<style scoped>\n",
       "    .dataframe tbody tr th:only-of-type {\n",
       "        vertical-align: middle;\n",
       "    }\n",
       "\n",
       "    .dataframe tbody tr th {\n",
       "        vertical-align: top;\n",
       "    }\n",
       "\n",
       "    .dataframe thead th {\n",
       "        text-align: right;\n",
       "    }\n",
       "</style>\n",
       "<table border=\"1\" class=\"dataframe\">\n",
       "  <thead>\n",
       "    <tr style=\"text-align: right;\">\n",
       "      <th></th>\n",
       "      <th>query_type</th>\n",
       "      <th>view_time</th>\n",
       "    </tr>\n",
       "  </thead>\n",
       "  <tbody>\n",
       "    <tr>\n",
       "      <th>0</th>\n",
       "      <td>films</td>\n",
       "      <td>6969.707339</td>\n",
       "    </tr>\n",
       "    <tr>\n",
       "      <th>1</th>\n",
       "      <td>music</td>\n",
       "      <td>2372.317105</td>\n",
       "    </tr>\n",
       "    <tr>\n",
       "      <th>2</th>\n",
       "      <td>show</td>\n",
       "      <td>3339.334294</td>\n",
       "    </tr>\n",
       "  </tbody>\n",
       "</table>\n",
       "</div>"
      ],
      "text/plain": [
       "  query_type    view_time\n",
       "0      films  6969.707339\n",
       "1      music  2372.317105\n",
       "2       show  3339.334294"
      ]
     },
     "execution_count": 51,
     "metadata": {},
     "output_type": "execute_result"
    }
   ],
   "source": [
    "# время просмотра на кликах меньше или равное 15, для запросов музыки и фильмов оно больше, \n",
    "# что говорит что пользователи находят релевантный контент за первые 15 новостей, для музыки меньше, но это обьяняется выбросами\n",
    "df_no_news[(df_no_news['click_position'] <= 15) & (df_no_news['view_time'] > 0)] \\\n",
    "            .groupby('query_type', as_index=False) \\\n",
    "            .agg({'view_time' : 'mean'})"
   ]
  },
  {
   "cell_type": "code",
   "execution_count": 60,
   "metadata": {},
   "outputs": [
    {
     "data": {
      "text/plain": [
       "np.float64(25.0)"
      ]
     },
     "execution_count": 60,
     "metadata": {},
     "output_type": "execute_result"
    }
   ],
   "source": [
    "# процент поисков которые ни к чему не привели, это похоже на хороший результат\n",
    "# посмотрим что это за поиски\n",
    "(df['event'] == 'search').mean().round(2) * 100\n"
   ]
  },
  {
   "cell_type": "code",
   "execution_count": null,
   "metadata": {},
   "outputs": [
    {
     "data": {
      "text/html": [
       "<div>\n",
       "<style scoped>\n",
       "    .dataframe tbody tr th:only-of-type {\n",
       "        vertical-align: middle;\n",
       "    }\n",
       "\n",
       "    .dataframe tbody tr th {\n",
       "        vertical-align: top;\n",
       "    }\n",
       "\n",
       "    .dataframe thead th {\n",
       "        text-align: right;\n",
       "    }\n",
       "</style>\n",
       "<table border=\"1\" class=\"dataframe\">\n",
       "  <thead>\n",
       "    <tr style=\"text-align: right;\">\n",
       "      <th></th>\n",
       "      <th>query_type</th>\n",
       "      <th>count</th>\n",
       "    </tr>\n",
       "  </thead>\n",
       "  <tbody>\n",
       "    <tr>\n",
       "      <th>0</th>\n",
       "      <td>films</td>\n",
       "      <td>1258</td>\n",
       "    </tr>\n",
       "    <tr>\n",
       "      <th>1</th>\n",
       "      <td>music</td>\n",
       "      <td>1227</td>\n",
       "    </tr>\n",
       "    <tr>\n",
       "      <th>2</th>\n",
       "      <td>news</td>\n",
       "      <td>1232</td>\n",
       "    </tr>\n",
       "    <tr>\n",
       "      <th>3</th>\n",
       "      <td>show</td>\n",
       "      <td>1241</td>\n",
       "    </tr>\n",
       "  </tbody>\n",
       "</table>\n",
       "</div>"
      ],
      "text/plain": [
       "  query_type  count\n",
       "0      films   1258\n",
       "1      music   1227\n",
       "2       news   1232\n",
       "3       show   1241"
      ]
     },
     "execution_count": 65,
     "metadata": {},
     "output_type": "execute_result"
    }
   ],
   "source": [
    "# наблюдаем примерно одинаковое количество поисков которые ни к чему не привели\n",
    "df[(df['event'] == 'search')] \\\n",
    "    .groupby('query_type', as_index=False)['user_id'] \\\n",
    "    .count() \\\n",
    "    .rename(columns = {'user_id' : 'count'})"
   ]
  },
  {
   "cell_type": "code",
   "execution_count": 73,
   "metadata": {},
   "outputs": [
    {
     "data": {
      "text/html": [
       "<div>\n",
       "<style scoped>\n",
       "    .dataframe tbody tr th:only-of-type {\n",
       "        vertical-align: middle;\n",
       "    }\n",
       "\n",
       "    .dataframe tbody tr th {\n",
       "        vertical-align: top;\n",
       "    }\n",
       "\n",
       "    .dataframe thead th {\n",
       "        text-align: right;\n",
       "    }\n",
       "</style>\n",
       "<table border=\"1\" class=\"dataframe\">\n",
       "  <thead>\n",
       "    <tr style=\"text-align: right;\">\n",
       "      <th></th>\n",
       "      <th>sex</th>\n",
       "      <th>count</th>\n",
       "    </tr>\n",
       "  </thead>\n",
       "  <tbody>\n",
       "    <tr>\n",
       "      <th>0</th>\n",
       "      <td>anonym</td>\n",
       "      <td>1114</td>\n",
       "    </tr>\n",
       "    <tr>\n",
       "      <th>1</th>\n",
       "      <td>female</td>\n",
       "      <td>2538</td>\n",
       "    </tr>\n",
       "    <tr>\n",
       "      <th>2</th>\n",
       "      <td>male</td>\n",
       "      <td>1306</td>\n",
       "    </tr>\n",
       "  </tbody>\n",
       "</table>\n",
       "</div>"
      ],
      "text/plain": [
       "      sex  count\n",
       "0  anonym   1114\n",
       "1  female   2538\n",
       "2    male   1306"
      ]
     },
     "execution_count": 73,
     "metadata": {},
     "output_type": "execute_result"
    }
   ],
   "source": [
    "# посмотрев по половому признаку, видим что запросы от женщин чаще оказываются неудачными, посмотрим общее количество запросов для каждого пола\n",
    "df[(df['event'] == 'search')] \\\n",
    "    .groupby('sex', as_index=False)['user_id'] \\\n",
    "    .count() \\\n",
    "    .rename(columns = {'user_id' : 'count'})"
   ]
  },
  {
   "cell_type": "code",
   "execution_count": 79,
   "metadata": {},
   "outputs": [
    {
     "data": {
      "text/html": [
       "<div>\n",
       "<style scoped>\n",
       "    .dataframe tbody tr th:only-of-type {\n",
       "        vertical-align: middle;\n",
       "    }\n",
       "\n",
       "    .dataframe tbody tr th {\n",
       "        vertical-align: top;\n",
       "    }\n",
       "\n",
       "    .dataframe thead th {\n",
       "        text-align: right;\n",
       "    }\n",
       "</style>\n",
       "<table border=\"1\" class=\"dataframe\">\n",
       "  <thead>\n",
       "    <tr style=\"text-align: right;\">\n",
       "      <th></th>\n",
       "      <th>sex</th>\n",
       "      <th>count</th>\n",
       "    </tr>\n",
       "  </thead>\n",
       "  <tbody>\n",
       "    <tr>\n",
       "      <th>0</th>\n",
       "      <td>anonym</td>\n",
       "      <td>4479</td>\n",
       "    </tr>\n",
       "    <tr>\n",
       "      <th>1</th>\n",
       "      <td>female</td>\n",
       "      <td>10075</td>\n",
       "    </tr>\n",
       "    <tr>\n",
       "      <th>2</th>\n",
       "      <td>male</td>\n",
       "      <td>5446</td>\n",
       "    </tr>\n",
       "  </tbody>\n",
       "</table>\n",
       "</div>"
      ],
      "text/plain": [
       "      sex  count\n",
       "0  anonym   4479\n",
       "1  female  10075\n",
       "2    male   5446"
      ]
     },
     "execution_count": 79,
     "metadata": {},
     "output_type": "execute_result"
    }
   ],
   "source": [
    "# у женщин большее число запросов так как и пользователей женщин больше \n",
    "total_search = df.groupby('sex', as_index=False)['user_id'] \\\n",
    "    .count() \\\n",
    "    .rename(columns = {'user_id' : 'count'})\n",
    "total_search"
   ]
  },
  {
   "cell_type": "code",
   "execution_count": 80,
   "metadata": {},
   "outputs": [
    {
     "data": {
      "text/html": [
       "<div>\n",
       "<style scoped>\n",
       "    .dataframe tbody tr th:only-of-type {\n",
       "        vertical-align: middle;\n",
       "    }\n",
       "\n",
       "    .dataframe tbody tr th {\n",
       "        vertical-align: top;\n",
       "    }\n",
       "\n",
       "    .dataframe thead th {\n",
       "        text-align: right;\n",
       "    }\n",
       "</style>\n",
       "<table border=\"1\" class=\"dataframe\">\n",
       "  <thead>\n",
       "    <tr style=\"text-align: right;\">\n",
       "      <th></th>\n",
       "      <th>sex</th>\n",
       "      <th>percentage</th>\n",
       "    </tr>\n",
       "  </thead>\n",
       "  <tbody>\n",
       "    <tr>\n",
       "      <th>0</th>\n",
       "      <td>anonym</td>\n",
       "      <td>24.87</td>\n",
       "    </tr>\n",
       "    <tr>\n",
       "      <th>1</th>\n",
       "      <td>female</td>\n",
       "      <td>25.19</td>\n",
       "    </tr>\n",
       "    <tr>\n",
       "      <th>2</th>\n",
       "      <td>male</td>\n",
       "      <td>23.98</td>\n",
       "    </tr>\n",
       "  </tbody>\n",
       "</table>\n",
       "</div>"
      ],
      "text/plain": [
       "      sex  percentage\n",
       "0  anonym       24.87\n",
       "1  female       25.19\n",
       "2    male       23.98"
      ]
     },
     "execution_count": 80,
     "metadata": {},
     "output_type": "execute_result"
    }
   ],
   "source": [
    "# в процентном соотношении у всех примерно равное количество недачных запросов, \n",
    "unluck_search = df[(df['event'] == 'search')] \\\n",
    "    .groupby('sex', as_index=False)['user_id'] \\\n",
    "    .count() \\\n",
    "    .rename(columns = {'user_id' : 'count'}) \n",
    "res_search = pd.DataFrame()\n",
    "res_search['sex'] = unluck_search['sex']\n",
    "res_search['percentage'] = (unluck_search['count'] / total_search['count']).mul(100).round(2)\n",
    "res_search"
   ]
  },
  {
   "cell_type": "code",
   "execution_count": null,
   "metadata": {},
   "outputs": [
    {
     "data": {
      "text/html": [
       "<div>\n",
       "<style scoped>\n",
       "    .dataframe tbody tr th:only-of-type {\n",
       "        vertical-align: middle;\n",
       "    }\n",
       "\n",
       "    .dataframe tbody tr th {\n",
       "        vertical-align: top;\n",
       "    }\n",
       "\n",
       "    .dataframe thead th {\n",
       "        text-align: right;\n",
       "    }\n",
       "</style>\n",
       "<table border=\"1\" class=\"dataframe\">\n",
       "  <thead>\n",
       "    <tr style=\"text-align: right;\">\n",
       "      <th></th>\n",
       "      <th>platform</th>\n",
       "      <th>count</th>\n",
       "    </tr>\n",
       "  </thead>\n",
       "  <tbody>\n",
       "    <tr>\n",
       "      <th>0</th>\n",
       "      <td>android</td>\n",
       "      <td>1065</td>\n",
       "    </tr>\n",
       "    <tr>\n",
       "      <th>1</th>\n",
       "      <td>android_tv</td>\n",
       "      <td>997</td>\n",
       "    </tr>\n",
       "    <tr>\n",
       "      <th>2</th>\n",
       "      <td>iphone</td>\n",
       "      <td>1047</td>\n",
       "    </tr>\n",
       "    <tr>\n",
       "      <th>3</th>\n",
       "      <td>smart_tv</td>\n",
       "      <td>1062</td>\n",
       "    </tr>\n",
       "    <tr>\n",
       "      <th>4</th>\n",
       "      <td>web</td>\n",
       "      <td>787</td>\n",
       "    </tr>\n",
       "  </tbody>\n",
       "</table>\n",
       "</div>"
      ],
      "text/plain": [
       "     platform  count\n",
       "0     android   1065\n",
       "1  android_tv    997\n",
       "2      iphone   1047\n",
       "3    smart_tv   1062\n",
       "4         web    787"
      ]
     },
     "execution_count": 81,
     "metadata": {},
     "output_type": "execute_result"
    }
   ],
   "source": [
    "# Проверим неудачные поиски по платформам, в целом ситуация равная, для web платформы меньше так как ей пользуются меньше людей \n",
    "df[(df['event'] == 'search')] \\\n",
    "    .groupby('platform', as_index=False)['user_id'] \\\n",
    "    .count() \\\n",
    "    .rename(columns = {'user_id' : 'count'})"
   ]
  },
  {
   "cell_type": "markdown",
   "metadata": {},
   "source": [
    "### Подводя итоги, было замечено несколько слабых мест <br>\n",
    "Высокий click_position для запросов типа новости, статистически пользователи дольше смотрят новости на высоких кликах и меньше на низких, возможно есть смысл пересмотреть алгортм ранжирования новостей <br>\n",
    "Низкая конверсия для новостей, возможно показываются устаревгие новости<br>\n",
    "Мужчины реже регистрируют аккаунт, что плохо для платформы <br>\n"
   ]
  },
  {
   "cell_type": "code",
   "execution_count": null,
   "metadata": {},
   "outputs": [],
   "source": []
  }
 ],
 "metadata": {
  "kernelspec": {
   "display_name": "vkvenv",
   "language": "python",
   "name": "python3"
  },
  "language_info": {
   "codemirror_mode": {
    "name": "ipython",
    "version": 3
   },
   "file_extension": ".py",
   "mimetype": "text/x-python",
   "name": "python",
   "nbconvert_exporter": "python",
   "pygments_lexer": "ipython3",
   "version": "3.13.1"
  }
 },
 "nbformat": 4,
 "nbformat_minor": 2
}
